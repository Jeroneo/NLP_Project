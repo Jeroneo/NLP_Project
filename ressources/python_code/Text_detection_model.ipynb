{
 "cells": [
  {
   "cell_type": "code",
   "execution_count": 21,
   "metadata": {},
   "outputs": [],
   "source": [
    "from tensorflow.keras.layers import Conv2D, Reshape, Concatenate, Flatten, Dropout\n",
    "from tensorflow.keras.initializers import he_normal\n",
    "from tensorflow.keras.applications import VGG16\n",
    "from tensorflow.keras.callbacks import Callback\n",
    "from tensorflow.keras.optimizers import Adam\n",
    "from tensorflow.keras.models import Model\n",
    "from datetime import datetime as dt\n",
    "from tqdm import tqdm\n",
    "\n",
    "import matplotlib.pyplot as plt\n",
    "import tensorflow as tf\n",
    "import numpy as np\n",
    "\n",
    "import concurrent.futures\n",
    "import json\n",
    "import cv2\n",
    "import os"
   ]
  },
  {
   "cell_type": "code",
   "execution_count": 22,
   "metadata": {},
   "outputs": [],
   "source": [
    "os.chdir(\"/mnt/g/Text_detection\")"
   ]
  },
  {
   "cell_type": "code",
   "execution_count": 23,
   "metadata": {},
   "outputs": [],
   "source": [
    "# Ensure GPU memory growth is set if needed\n",
    "try:\n",
    "    [tf.config.experimental.set_memory_growth(gpu, True) for gpu in tf.config.experimental.list_physical_devices(\"GPU\")]\n",
    "except:\n",
    "    pass"
   ]
  },
  {
   "cell_type": "code",
   "execution_count": 24,
   "metadata": {},
   "outputs": [],
   "source": [
    "# Define paths and constants\n",
    "MODEL_PATH = f\"./Models/{dt.now().strftime('%Y%m%d%H%M%S')}/\"\n",
    "json_dir = './Dataset/TextOCR_0.1_train.json'\n",
    "base_dir = './Dataset/'\n",
    "batch_size = 4\n",
    "\n",
    "if not os.path.exists(MODEL_PATH):\n",
    "    os.makedirs(MODEL_PATH)"
   ]
  },
  {
   "cell_type": "code",
   "execution_count": 25,
   "metadata": {},
   "outputs": [],
   "source": [
    "# Load and preprocess data from JSON file\n",
    "with open(json_dir, 'r') as f:\n",
    "    data = json.load(f)"
   ]
  },
  {
   "cell_type": "code",
   "execution_count": 26,
   "metadata": {},
   "outputs": [],
   "source": [
    "# Data generator class\n",
    "class TextOCRDataGenerator:\n",
    "    def __init__(self, data, base_dir, batch_size=4, image_size=(224, 224), set_type='train'):\n",
    "        self.data = data\n",
    "        self.base_dir = base_dir\n",
    "        self.batch_size = batch_size\n",
    "        self.image_size = image_size\n",
    "        self.set_type = set_type\n",
    "        self.image_ids = [img_id for img_id, img_info in data['imgs'].items() if img_info['set'] == set_type and 'file_name' in img_info]\n",
    "        self.indexes = np.arange(len(self.image_ids))\n",
    "        print(f\"Initialized with {len(self.image_ids)} images for set '{set_type}'\")\n",
    "\n",
    "    def __len__(self):\n",
    "        length = len(self.image_ids) // self.batch_size\n",
    "        print(f\"Data generator length (number of batches): {length}\")\n",
    "        return length\n",
    "\n",
    "    def __data_generation(self, batch_image_ids):\n",
    "        X = np.empty((self.batch_size, *self.image_size, 3))\n",
    "        grid_size = 7  # Grid size\n",
    "        num_boxes = 64  # Number of anchor boxes\n",
    "        num_coords = 4  # (x1, y1, x2, y2)\n",
    "        num_classes = 2  # Background and text\n",
    "        y = np.zeros((self.batch_size, grid_size * grid_size * num_boxes, num_coords + num_classes))\n",
    "\n",
    "        for i, img_id in enumerate(batch_image_ids):\n",
    "            img_info = self.data['imgs'][img_id]\n",
    "            img_path = os.path.join(self.base_dir, img_info['file_name'])\n",
    "            img = cv2.imread(img_path)\n",
    "            if img is None:\n",
    "                print(f\"Image not found: {img_path}\")\n",
    "                continue\n",
    "            img = cv2.resize(img, self.image_size)\n",
    "            img = img / 255.0\n",
    "            X[i, ] = img\n",
    "\n",
    "            if img_id in self.data['imgToAnns']:\n",
    "                for ann_id in self.data['imgToAnns'][img_id]:\n",
    "                    ann = self.data['anns'][ann_id]\n",
    "                    x1, y1, x2, y2 = ann['bbox']\n",
    "                    x1 = x1 / img_info['width']\n",
    "                    y1 = y1 / img_info['height']\n",
    "                    x2 = x2 / img_info['width']\n",
    "                    y2 = y2 / img_info['height']\n",
    "                    \n",
    "                    # Check for NaNs and infinities\n",
    "                    if any(np.isnan([x1, y1, x2, y2])) or any(np.isinf([x1, y1, x2, y2])):\n",
    "                        print(f\"Found NaNs or infinities in the annotation for image {img_id}. Skipping this annotation.\")\n",
    "                        continue\n",
    "                    \n",
    "                    # Calculate the cell position\n",
    "                    cell_x = int((x1 + x2) / 2 * grid_size)\n",
    "                    cell_y = int((y1 + y2) / 2 * grid_size)\n",
    "                    cell_index = cell_y * grid_size + cell_x\n",
    "\n",
    "                    for b in range(num_boxes):  # 64 anchor boxes\n",
    "                        y[i, cell_index * num_boxes + b, :num_coords] = [x1, y1, x2, y2]  # bbox coordinates\n",
    "                        y[i, cell_index * num_boxes + b, num_coords:] = [0, 1]  # one-hot class (text)\n",
    "\n",
    "        return X, y\n",
    "\n",
    "    def __call__(self):\n",
    "        for start_idx in range(0, len(self.image_ids), self.batch_size):\n",
    "            end_idx = min(start_idx + self.batch_size, len(self.image_ids))\n",
    "            batch_image_ids = self.image_ids[start_idx:end_idx]\n",
    "            yield self.__data_generation(batch_image_ids)\n",
    "\n",
    "    def clean_data_parallel(self):\n",
    "        valid_image_ids = []\n",
    "\n",
    "        def process_image(img_id):\n",
    "            try:\n",
    "                X, y = self.__data_generation([img_id])\n",
    "                if not (np.isnan(X).any() or np.isinf(X).any() or np.isnan(y).any() or np.isinf(y).any()):\n",
    "                    return img_id\n",
    "            except Exception as e:\n",
    "                print(f\"Error processing image {img_id}: {e}\")\n",
    "            return None\n",
    "\n",
    "        print(\"Checking Dataset...\")\n",
    "        with concurrent.futures.ThreadPoolExecutor(max_workers=8) as executor:\n",
    "            futures = {executor.submit(process_image, img_id): img_id for img_id in self.image_ids}\n",
    "            for future in tqdm(concurrent.futures.as_completed(futures), total=len(futures)):\n",
    "                result = future.result()\n",
    "                if result is not None:\n",
    "                    valid_image_ids.append(result)\n",
    "\n",
    "        return valid_image_ids"
   ]
  },
  {
   "cell_type": "code",
   "execution_count": 27,
   "metadata": {},
   "outputs": [],
   "source": [
    "# Define the model\n",
    "def create_model(input_shape=(224, 224, 3)):\n",
    "    base_model = VGG16(weights='imagenet', include_top=False, input_shape=input_shape)\n",
    "    x = base_model.output\n",
    "    x = Conv2D(256, (3, 3), activation='relu', padding='same', kernel_initializer=he_normal())(x)\n",
    "    x = Dropout(0.5)(x)  # Added dropout for regularization\n",
    "    x = Conv2D(128, (3, 3), activation='relu', padding='same', kernel_initializer=he_normal())(x)\n",
    "    x = Dropout(0.5)(x)  # Added dropout for regularization\n",
    "    \n",
    "    num_classes = 2  # Background and text\n",
    "    num_boxes = 64  # 64 anchor boxes\n",
    "    num_coords = 4  # (x1, y1, x2, y2)\n",
    "    grid_size = 7  # 7x7 grid\n",
    "\n",
    "    # Ensure the Conv2D filters match the desired reshape dimensions\n",
    "    bbox_output = Conv2D(num_boxes * num_coords, (1, 1), activation='linear', name='bbox_output')(x)\n",
    "    class_output = Conv2D(num_boxes * num_classes, (1, 1), activation='softmax', name='class_output')(x)\n",
    "    \n",
    "    # Flatten the outputs before reshaping them\n",
    "    bbox_output = Flatten()(bbox_output)\n",
    "    class_output = Flatten()(class_output)\n",
    "\n",
    "    # Reshape to the desired output shape\n",
    "    bbox_output = Reshape((grid_size * grid_size * num_boxes, num_coords), name='bbox_output_reshape')(bbox_output)\n",
    "    class_output = Reshape((grid_size * grid_size * num_boxes, num_classes), name='class_output_reshape')(class_output)\n",
    "\n",
    "    outputs = Concatenate(axis=-1, name='outputs')([bbox_output, class_output])\n",
    "\n",
    "    model = Model(inputs=base_model.input, outputs=outputs)\n",
    "    return model"
   ]
  },
  {
   "cell_type": "code",
   "execution_count": 28,
   "metadata": {},
   "outputs": [],
   "source": [
    "# Custom callback to monitor NaNs/Infs in loss\n",
    "class NaNInfMonitor(Callback):\n",
    "    def on_batch_end(self, batch, logs=None):\n",
    "        if logs is not None:\n",
    "            if np.isnan(logs.get('loss')) or np.isinf(logs.get('loss')):\n",
    "                print(f\"NaN or Inf found in loss at batch {batch}\")\n",
    "                self.model.stop_training = True  # Stop training if NaN or Inf is found"
   ]
  },
  {
   "cell_type": "code",
   "execution_count": 29,
   "metadata": {},
   "outputs": [
    {
     "name": "stdout",
     "output_type": "stream",
     "text": [
      "Initialized with 21778 images for set 'train'\n",
      "Checking Dataset...\n"
     ]
    },
    {
     "name": "stderr",
     "output_type": "stream",
     "text": [
      "100%|██████████| 21778/21778 [13:27<00:00, 26.98it/s] \n"
     ]
    }
   ],
   "source": [
    "# Clean the data\n",
    "data_generator = TextOCRDataGenerator(data, base_dir, batch_size=batch_size, image_size=(224, 224), set_type='train')\n",
    "clean_image_ids = data_generator.clean_data_parallel()"
   ]
  },
  {
   "cell_type": "code",
   "execution_count": 30,
   "metadata": {},
   "outputs": [],
   "source": [
    "# Update the generator with clean data\n",
    "data_generator.image_ids = clean_image_ids"
   ]
  },
  {
   "cell_type": "code",
   "execution_count": 31,
   "metadata": {},
   "outputs": [],
   "source": [
    "# Define the model\n",
    "model = create_model()\n",
    "optimizer = Adam(learning_rate=1e-5, clipnorm=1.0)  # Lower learning rate\n",
    "model.compile(optimizer=optimizer, loss='categorical_crossentropy', metrics=['accuracy'])"
   ]
  },
  {
   "cell_type": "code",
   "execution_count": 32,
   "metadata": {},
   "outputs": [
    {
     "name": "stdout",
     "output_type": "stream",
     "text": [
      "Model: \"model_1\"\n",
      "__________________________________________________________________________________________________\n",
      " Layer (type)                Output Shape                 Param #   Connected to                  \n",
      "==================================================================================================\n",
      " input_2 (InputLayer)        [(None, 224, 224, 3)]        0         []                            \n",
      "                                                                                                  \n",
      " block1_conv1 (Conv2D)       (None, 224, 224, 64)         1792      ['input_2[0][0]']             \n",
      "                                                                                                  \n",
      " block1_conv2 (Conv2D)       (None, 224, 224, 64)         36928     ['block1_conv1[0][0]']        \n",
      "                                                                                                  \n",
      " block1_pool (MaxPooling2D)  (None, 112, 112, 64)         0         ['block1_conv2[0][0]']        \n",
      "                                                                                                  \n",
      " block2_conv1 (Conv2D)       (None, 112, 112, 128)        73856     ['block1_pool[0][0]']         \n",
      "                                                                                                  \n",
      " block2_conv2 (Conv2D)       (None, 112, 112, 128)        147584    ['block2_conv1[0][0]']        \n",
      "                                                                                                  \n",
      " block2_pool (MaxPooling2D)  (None, 56, 56, 128)          0         ['block2_conv2[0][0]']        \n",
      "                                                                                                  \n",
      " block3_conv1 (Conv2D)       (None, 56, 56, 256)          295168    ['block2_pool[0][0]']         \n",
      "                                                                                                  \n",
      " block3_conv2 (Conv2D)       (None, 56, 56, 256)          590080    ['block3_conv1[0][0]']        \n",
      "                                                                                                  \n",
      " block3_conv3 (Conv2D)       (None, 56, 56, 256)          590080    ['block3_conv2[0][0]']        \n",
      "                                                                                                  \n",
      " block3_pool (MaxPooling2D)  (None, 28, 28, 256)          0         ['block3_conv3[0][0]']        \n",
      "                                                                                                  \n",
      " block4_conv1 (Conv2D)       (None, 28, 28, 512)          1180160   ['block3_pool[0][0]']         \n",
      "                                                                                                  \n",
      " block4_conv2 (Conv2D)       (None, 28, 28, 512)          2359808   ['block4_conv1[0][0]']        \n",
      "                                                                                                  \n",
      " block4_conv3 (Conv2D)       (None, 28, 28, 512)          2359808   ['block4_conv2[0][0]']        \n",
      "                                                                                                  \n",
      " block4_pool (MaxPooling2D)  (None, 14, 14, 512)          0         ['block4_conv3[0][0]']        \n",
      "                                                                                                  \n",
      " block5_conv1 (Conv2D)       (None, 14, 14, 512)          2359808   ['block4_pool[0][0]']         \n",
      "                                                                                                  \n",
      " block5_conv2 (Conv2D)       (None, 14, 14, 512)          2359808   ['block5_conv1[0][0]']        \n",
      "                                                                                                  \n",
      " block5_conv3 (Conv2D)       (None, 14, 14, 512)          2359808   ['block5_conv2[0][0]']        \n",
      "                                                                                                  \n",
      " block5_pool (MaxPooling2D)  (None, 7, 7, 512)            0         ['block5_conv3[0][0]']        \n",
      "                                                                                                  \n",
      " conv2d_2 (Conv2D)           (None, 7, 7, 256)            1179904   ['block5_pool[0][0]']         \n",
      "                                                                                                  \n",
      " dropout_2 (Dropout)         (None, 7, 7, 256)            0         ['conv2d_2[0][0]']            \n",
      "                                                                                                  \n",
      " conv2d_3 (Conv2D)           (None, 7, 7, 128)            295040    ['dropout_2[0][0]']           \n",
      "                                                                                                  \n",
      " dropout_3 (Dropout)         (None, 7, 7, 128)            0         ['conv2d_3[0][0]']            \n",
      "                                                                                                  \n",
      " bbox_output (Conv2D)        (None, 7, 7, 256)            33024     ['dropout_3[0][0]']           \n",
      "                                                                                                  \n",
      " class_output (Conv2D)       (None, 7, 7, 128)            16512     ['dropout_3[0][0]']           \n",
      "                                                                                                  \n",
      " flatten_2 (Flatten)         (None, 12544)                0         ['bbox_output[0][0]']         \n",
      "                                                                                                  \n",
      " flatten_3 (Flatten)         (None, 6272)                 0         ['class_output[0][0]']        \n",
      "                                                                                                  \n",
      " bbox_output_reshape (Resha  (None, 3136, 4)              0         ['flatten_2[0][0]']           \n",
      " pe)                                                                                              \n",
      "                                                                                                  \n",
      " class_output_reshape (Resh  (None, 3136, 2)              0         ['flatten_3[0][0]']           \n",
      " ape)                                                                                             \n",
      "                                                                                                  \n",
      " outputs (Concatenate)       (None, 3136, 6)              0         ['bbox_output_reshape[0][0]', \n",
      "                                                                     'class_output_reshape[0][0]']\n",
      "                                                                                                  \n",
      "==================================================================================================\n",
      "Total params: 16239168 (61.95 MB)\n",
      "Trainable params: 16239168 (61.95 MB)\n",
      "Non-trainable params: 0 (0.00 Byte)\n",
      "__________________________________________________________________________________________________\n"
     ]
    }
   ],
   "source": [
    "model.summary()"
   ]
  },
  {
   "cell_type": "code",
   "execution_count": 33,
   "metadata": {},
   "outputs": [],
   "source": [
    "# Convert the generator to a TensorFlow dataset\n",
    "output_signature = (\n",
    "    tf.TensorSpec(shape=(batch_size, 224, 224, 3), dtype=tf.float32),\n",
    "    tf.TensorSpec(shape=(batch_size, 7 * 7 * 64, 6), dtype=tf.float32)\n",
    ")\n",
    "\n",
    "tf_dataset = tf.data.Dataset.from_generator(\n",
    "    data_generator,\n",
    "    output_signature=output_signature\n",
    ").repeat().prefetch(tf.data.AUTOTUNE)"
   ]
  },
  {
   "cell_type": "code",
   "execution_count": 34,
   "metadata": {},
   "outputs": [
    {
     "name": "stdout",
     "output_type": "stream",
     "text": [
      "Images batch shape: (4, 224, 224, 3)\n",
      "Labels batch shape: (4, 3136, 6)\n"
     ]
    }
   ],
   "source": [
    "# Inspect a single batch from the dataset\n",
    "for images, labels in tf_dataset.take(1):\n",
    "    print(\"Images batch shape:\", images.shape)\n",
    "    print(\"Labels batch shape:\", labels.shape)\n",
    "    break"
   ]
  },
  {
   "cell_type": "code",
   "execution_count": 35,
   "metadata": {},
   "outputs": [],
   "source": [
    "# Explicitly define the loss function\n",
    "loss_fn = tf.keras.losses.CategoricalCrossentropy()"
   ]
  },
  {
   "cell_type": "code",
   "execution_count": 36,
   "metadata": {},
   "outputs": [],
   "source": [
    "# Custom training loop with NaN/Inf handling in parameters\n",
    "def custom_training_loop(model, dataset, epochs, steps_per_epoch):\n",
    "    optimizer = model.optimizer\n",
    "    train_acc_metric = tf.keras.metrics.CategoricalAccuracy()\n",
    "    \n",
    "    # Initialize lists to store loss and accuracy history\n",
    "    history = {'loss': [], 'accuracy': []}\n",
    "\n",
    "    for epoch in range(epochs):\n",
    "        print(f\"\\nStart of epoch {epoch}\")\n",
    "        \n",
    "        epoch_loss = []\n",
    "        epoch_accuracy = []\n",
    "\n",
    "        for step, (x_batch_train, y_batch_train) in enumerate(dataset):\n",
    "            if step >= steps_per_epoch:\n",
    "                break\n",
    "            \n",
    "            with tf.GradientTape() as tape:\n",
    "                logits = model(x_batch_train, training=True)\n",
    "                loss_value = loss_fn(y_batch_train, logits)\n",
    "                \n",
    "                # Check for NaNs and infinities in the loss\n",
    "                if tf.reduce_any(tf.math.is_nan(loss_value)) or tf.reduce_any(tf.math.is_inf(loss_value)):\n",
    "                    print(f\"NaN or Inf loss detected at step {step} in epoch {epoch}. Skipping this batch.\")\n",
    "                    continue\n",
    "\n",
    "            grads = tape.gradient(loss_value, model.trainable_weights)\n",
    "            optimizer.apply_gradients(zip(grads, model.trainable_weights))\n",
    "\n",
    "            train_acc_metric.update_state(y_batch_train, logits)\n",
    "\n",
    "            # Check for NaNs and infinities in model parameters\n",
    "            nan_inf_detected = False\n",
    "            for weight in model.trainable_weights:\n",
    "                if tf.reduce_any(tf.math.is_nan(weight)) or tf.reduce_any(tf.math.is_inf(weight)):\n",
    "                    print(f\"NaN or Inf detected in model parameters after step {step} in epoch {epoch}.\")\n",
    "                    nan_inf_detected = True\n",
    "                    break\n",
    "            \n",
    "            if nan_inf_detected:\n",
    "                print(f\"Stopping training due to NaN or Inf in model parameters at step {step} in epoch {epoch}.\")\n",
    "                return history\n",
    "\n",
    "            epoch_loss.append(loss_value.numpy())\n",
    "            epoch_accuracy.append(train_acc_metric.result().numpy())\n",
    "\n",
    "            if step % 100 == 0:\n",
    "                print(f\"Training loss (for one batch) at step {step}: {loss_value.numpy()}\")\n",
    "                print(f\"Seen so far: {(step + 1) * batch_size} samples\")\n",
    "\n",
    "        # Compute the mean loss and accuracy for the epoch\n",
    "        mean_epoch_loss = np.mean(epoch_loss)\n",
    "        mean_epoch_accuracy = np.mean(epoch_accuracy)\n",
    "\n",
    "        print(f\"Training loss over epoch: {mean_epoch_loss}\")\n",
    "        print(f\"Training accuracy over epoch: {mean_epoch_accuracy}\")\n",
    "        \n",
    "        # Append to history\n",
    "        history['loss'].append(mean_epoch_loss)\n",
    "        history['accuracy'].append(mean_epoch_accuracy)\n",
    "\n",
    "        train_acc_metric.reset_states()\n",
    "\n",
    "    return history"
   ]
  },
  {
   "cell_type": "code",
   "execution_count": 37,
   "metadata": {},
   "outputs": [
    {
     "name": "stdout",
     "output_type": "stream",
     "text": [
      "Data generator length (number of batches): 4728\n",
      "\n",
      "Start of epoch 0\n",
      "Training loss (for one batch) at step 0: 2.5942912101745605\n",
      "Seen so far: 4 samples\n",
      "Training loss (for one batch) at step 100: 2.7891650199890137\n",
      "Seen so far: 404 samples\n",
      "Training loss (for one batch) at step 200: 2.814591646194458\n",
      "Seen so far: 804 samples\n",
      "Training loss (for one batch) at step 300: 2.7442843914031982\n",
      "Seen so far: 1204 samples\n",
      "Training loss (for one batch) at step 400: 1.334847331047058\n",
      "Seen so far: 1604 samples\n",
      "Training loss (for one batch) at step 500: 3.178107976913452\n",
      "Seen so far: 2004 samples\n",
      "Training loss (for one batch) at step 600: 2.6070315837860107\n",
      "Seen so far: 2404 samples\n",
      "Training loss (for one batch) at step 700: 1.9567266702651978\n",
      "Seen so far: 2804 samples\n",
      "Training loss (for one batch) at step 800: 1.6604807376861572\n",
      "Seen so far: 3204 samples\n",
      "Training loss (for one batch) at step 900: 1.4883748292922974\n",
      "Seen so far: 3604 samples\n",
      "Training loss (for one batch) at step 1000: 2.2371127605438232\n",
      "Seen so far: 4004 samples\n",
      "Training loss (for one batch) at step 1100: 2.128620147705078\n",
      "Seen so far: 4404 samples\n",
      "Training loss (for one batch) at step 1200: 2.0443520545959473\n",
      "Seen so far: 4804 samples\n",
      "Training loss (for one batch) at step 1300: 2.3607938289642334\n",
      "Seen so far: 5204 samples\n",
      "Training loss (for one batch) at step 1400: 1.5590221881866455\n",
      "Seen so far: 5604 samples\n",
      "Training loss (for one batch) at step 1500: 2.0092334747314453\n",
      "Seen so far: 6004 samples\n",
      "Training loss (for one batch) at step 1600: 1.1103646755218506\n",
      "Seen so far: 6404 samples\n",
      "Training loss (for one batch) at step 1700: 1.7794753313064575\n",
      "Seen so far: 6804 samples\n",
      "Training loss (for one batch) at step 1800: 1.9537303447723389\n",
      "Seen so far: 7204 samples\n",
      "Training loss (for one batch) at step 1900: 2.664515256881714\n",
      "Seen so far: 7604 samples\n",
      "Training loss (for one batch) at step 2000: 1.7767261266708374\n",
      "Seen so far: 8004 samples\n",
      "Training loss (for one batch) at step 2100: 2.1291491985321045\n",
      "Seen so far: 8404 samples\n",
      "Training loss (for one batch) at step 2200: 1.696402668952942\n",
      "Seen so far: 8804 samples\n",
      "Training loss (for one batch) at step 2300: 3.11256742477417\n",
      "Seen so far: 9204 samples\n",
      "NaN or Inf detected in model parameters after step 2361 in epoch 0.\n",
      "Stopping training due to NaN or Inf in model parameters at step 2361 in epoch 0.\n"
     ]
    }
   ],
   "source": [
    "# Start custom training loop and store history\n",
    "history = custom_training_loop(model, tf_dataset, epochs=10, steps_per_epoch=len(data_generator))"
   ]
  },
  {
   "cell_type": "code",
   "execution_count": 38,
   "metadata": {},
   "outputs": [],
   "source": [
    "# Save the model\n",
    "model.save(f\"{MODEL_PATH}/model.h5\", save_format=\"h5\")"
   ]
  },
  {
   "cell_type": "code",
   "execution_count": 39,
   "metadata": {},
   "outputs": [],
   "source": [
    "# Plot the training results\n",
    "def plot_training_results(history):\n",
    "    plt.figure(figsize=(12, 6))\n",
    "    plt.subplot(1, 2, 1)\n",
    "    plt.plot(history['accuracy'])\n",
    "    plt.title('Model Accuracy')\n",
    "    plt.xlabel('Epoch')\n",
    "    plt.ylabel('Accuracy')\n",
    "    plt.legend(['Train'], loc='upper left')\n",
    "    plt.grid(True)\n",
    "\n",
    "    plt.subplot(1, 2, 2)\n",
    "    plt.plot(history['loss'])\n",
    "    plt.title('Model Loss')\n",
    "    plt.xlabel('Epoch')\n",
    "    plt.ylabel('Loss')\n",
    "    plt.legend(['Train'], loc='upper left')\n",
    "    plt.grid(True)\n",
    "\n",
    "    plt.tight_layout()\n",
    "    plt.show()"
   ]
  },
  {
   "cell_type": "code",
   "execution_count": 40,
   "metadata": {},
   "outputs": [
    {
     "data": {
      "image/png": "[encoded data removed]",
      "text/plain": [
       "<Figure size 1200x600 with 2 Axes>"
      ]
     },
     "metadata": {},
     "output_type": "display_data"
    }
   ],
   "source": [
    "# Plot the results\n",
    "plot_training_results(history)"
   ]
  }
 ],
 "metadata": {
  "kernelspec": {
   "display_name": "Python 3",
   "language": "python",
   "name": "python3"
  },
  "language_info": {
   "codemirror_mode": {
    "name": "ipython",
    "version": 3
   },
   "file_extension": ".py",
   "mimetype": "text/x-python",
   "name": "python",
   "nbconvert_exporter": "python",
   "pygments_lexer": "ipython3",
   "version": "3.10.14"
  }
 },
 "nbformat": 4,
 "nbformat_minor": 2
}
