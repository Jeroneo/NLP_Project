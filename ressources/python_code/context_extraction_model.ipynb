{
 "cells": [
  {
   "cell_type": "markdown",
   "metadata": {},
   "source": [
    "# Context extraction model"
   ]
  },
  {
   "cell_type": "markdown",
   "metadata": {},
   "source": [
    "## Training the model"
   ]
  },
  {
   "cell_type": "code",
   "execution_count": 1,
   "metadata": {},
   "outputs": [],
   "source": [
    "from transformers import BertTokenizerFast, BertForTokenClassification, TrainingArguments, Trainer, DataCollatorForTokenClassification\n",
    "from datasets import load_dataset\n",
    "\n",
    "import matplotlib.pyplot as plt\n",
    "import numpy as np\n",
    "\n",
    "import evaluate"
   ]
  },
  {
   "cell_type": "code",
   "execution_count": 2,
   "metadata": {},
   "outputs": [],
   "source": [
    "label_all_tokens = True"
   ]
  },
  {
   "cell_type": "code",
   "execution_count": 3,
   "metadata": {},
   "outputs": [],
   "source": [
    "# Load the dataset\n",
    "dataset = load_dataset('conll2012_ontonotesv5', 'english_v12', split='train')"
   ]
  },
  {
   "cell_type": "code",
   "execution_count": 24,
   "metadata": {},
   "outputs": [],
   "source": [
    "# Define label mappings\n",
    "labels_list = dataset.features['sentences'][0]['named_entities'].feature.names\n",
    "label2id = {label: i for i, label in enumerate(labels_list)}\n",
    "id2label = {i: label for i, label in enumerate(labels_list)}"
   ]
  },
  {
   "cell_type": "code",
   "execution_count": 25,
   "metadata": {},
   "outputs": [],
   "source": [
    "# Initialize the tokenizer\n",
    "tokenizer = BertTokenizerFast.from_pretrained('bert-base-cased')"
   ]
  },
  {
   "cell_type": "code",
   "execution_count": 26,
   "metadata": {},
   "outputs": [],
   "source": [
    "def tokenize_and_align_labels(examples):\n",
    "    tokenized_inputs = {\n",
    "        'input_ids': [],\n",
    "        'attention_mask': [],\n",
    "        'labels': []\n",
    "    }\n",
    "    \n",
    "    for sentences in examples['sentences']:\n",
    "        for sentence in sentences:\n",
    "            words = sentence['words']\n",
    "            labels = sentence['named_entities']\n",
    "            \n",
    "            tokenized_input = tokenizer(words, truncation=True, is_split_into_words=True)\n",
    "            \n",
    "            aligned_labels = []\n",
    "            word_ids = tokenized_input.word_ids()\n",
    "            previous_word_idx = None\n",
    "            for word_idx in word_ids:\n",
    "                if word_idx is None:\n",
    "                    aligned_labels.append(-100)\n",
    "                elif word_idx != previous_word_idx:\n",
    "                    aligned_labels.append(labels[word_idx])\n",
    "                else:\n",
    "                    aligned_labels.append(labels[word_idx] if label_all_tokens else -100)\n",
    "                previous_word_idx = word_idx\n",
    "            \n",
    "            tokenized_input[\"labels\"] = aligned_labels\n",
    "            \n",
    "            tokenized_inputs['input_ids'].append(tokenized_input['input_ids'])\n",
    "            tokenized_inputs['attention_mask'].append(tokenized_input['attention_mask'])\n",
    "            tokenized_inputs['labels'].append(tokenized_input['labels'])\n",
    "\n",
    "    return tokenized_inputs"
   ]
  },
  {
   "cell_type": "code",
   "execution_count": 27,
   "metadata": {},
   "outputs": [],
   "source": [
    "# Tokenize the dataset\n",
    "tokenized_datasets = dataset.map(tokenize_and_align_labels, batched=True, remove_columns=dataset.column_names)"
   ]
  },
  {
   "cell_type": "code",
   "execution_count": 28,
   "metadata": {},
   "outputs": [
    {
     "name": "stderr",
     "output_type": "stream",
     "text": [
      "Some weights of BertForTokenClassification were not initialized from the model checkpoint at bert-base-cased and are newly initialized: ['classifier.bias', 'classifier.weight']\n",
      "You should probably TRAIN this model on a down-stream task to be able to use it for predictions and inference.\n"
     ]
    }
   ],
   "source": [
    "# Load the pre-trained BERT model for token classification\n",
    "model = BertForTokenClassification.from_pretrained('bert-base-cased', num_labels=len(label2id))\n",
    "model.config.id2label = id2label\n",
    "model.config.label2id = label2id"
   ]
  },
  {
   "cell_type": "code",
   "execution_count": 29,
   "metadata": {},
   "outputs": [],
   "source": [
    "# Define the data collator\n",
    "data_collator = DataCollatorForTokenClassification(tokenizer)"
   ]
  },
  {
   "cell_type": "code",
   "execution_count": 30,
   "metadata": {},
   "outputs": [],
   "source": [
    "# Define the evaluation metric\n",
    "metric = evaluate.load(\"seqeval\")"
   ]
  },
  {
   "cell_type": "code",
   "execution_count": 31,
   "metadata": {},
   "outputs": [],
   "source": [
    "def compute_metrics(p):\n",
    "    predictions, labels = p\n",
    "    predictions = np.argmax(predictions, axis=2)\n",
    "\n",
    "    true_predictions = [\n",
    "        [model.config.id2label[p] for (p, l) in zip(prediction, label) if l != -100]\n",
    "        for prediction, label in zip(predictions, labels)\n",
    "    ]\n",
    "    true_labels = [\n",
    "        [model.config.id2label[l] for (p, l) in zip(prediction, label) if l != -100]\n",
    "        for prediction, label in zip(predictions, labels)\n",
    "    ]\n",
    "\n",
    "    results = metric.compute(predictions=true_predictions, references=true_labels)\n",
    "    return {\n",
    "        \"precision\": results[\"overall_precision\"],\n",
    "        \"recall\": results[\"overall_recall\"],\n",
    "        \"f1\": results[\"overall_f1\"],\n",
    "        \"accuracy\": results[\"overall_accuracy\"],\n",
    "    }"
   ]
  },
  {
   "cell_type": "code",
   "execution_count": 32,
   "metadata": {},
   "outputs": [
    {
     "name": "stderr",
     "output_type": "stream",
     "text": [
      "c:\\Users\\Jerome\\AppData\\Local\\Programs\\Python\\Python311\\Lib\\site-packages\\transformers\\training_args.py:1474: FutureWarning: `evaluation_strategy` is deprecated and will be removed in version 4.46 of 🤗 Transformers. Use `eval_strategy` instead\n",
      "  warnings.warn(\n"
     ]
    }
   ],
   "source": [
    "# Define the training arguments\n",
    "training_args = TrainingArguments(\n",
    "    output_dir=\"./results\",\n",
    "    evaluation_strategy=\"epoch\",\n",
    "    learning_rate=2e-5,\n",
    "    per_device_train_batch_size=16,\n",
    "    per_device_eval_batch_size=16,\n",
    "    num_train_epochs=3,\n",
    "    weight_decay=0.01,\n",
    ")"
   ]
  },
  {
   "cell_type": "code",
   "execution_count": 33,
   "metadata": {},
   "outputs": [],
   "source": [
    "# Split the tokenized dataset into train and validation sets\n",
    "train_test_split = tokenized_datasets.train_test_split(test_size=0.1)\n",
    "train_dataset = train_test_split[\"train\"]\n",
    "eval_dataset = train_test_split[\"test\"]"
   ]
  },
  {
   "cell_type": "code",
   "execution_count": 34,
   "metadata": {},
   "outputs": [],
   "source": [
    "# Create the Trainer\n",
    "trainer = Trainer(\n",
    "    model=model,\n",
    "    args=training_args,\n",
    "    train_dataset=train_dataset,\n",
    "    eval_dataset=eval_dataset,\n",
    "    tokenizer=tokenizer,\n",
    "    data_collator=data_collator,\n",
    "    compute_metrics=compute_metrics,\n",
    ")"
   ]
  },
  {
   "cell_type": "code",
   "execution_count": 35,
   "metadata": {},
   "outputs": [
    {
     "data": {
      "application/vnd.jupyter.widget-view+json": {
       "model_id": "3fa02e3b3a294555b5f5933ddab9e64d",
       "version_major": 2,
       "version_minor": 0
      },
      "text/plain": [
       "  0%|          | 0/19545 [00:00<?, ?it/s]"
      ]
     },
     "metadata": {},
     "output_type": "display_data"
    },
    {
     "name": "stderr",
     "output_type": "stream",
     "text": [
      "c:\\Users\\Jerome\\AppData\\Local\\Programs\\Python\\Python311\\Lib\\site-packages\\transformers\\models\\bert\\modeling_bert.py:435: UserWarning: 1Torch was not compiled with flash attention. (Triggered internally at ..\\aten\\src\\ATen\\native\\transformers\\cuda\\sdp_utils.cpp:455.)\n",
      "  attn_output = torch.nn.functional.scaled_dot_product_attention(\n"
     ]
    },
    {
     "name": "stdout",
     "output_type": "stream",
     "text": [
      "{'loss': 0.3409, 'grad_norm': 2.246727466583252, 'learning_rate': 1.9488360194423127e-05, 'epoch': 0.08}\n",
      "{'loss': 0.1362, 'grad_norm': 1.173071026802063, 'learning_rate': 1.8976720388846255e-05, 'epoch': 0.15}\n",
      "{'loss': 0.117, 'grad_norm': 2.0051515102386475, 'learning_rate': 1.846508058326938e-05, 'epoch': 0.23}\n",
      "{'loss': 0.1091, 'grad_norm': 0.8002653121948242, 'learning_rate': 1.7953440777692505e-05, 'epoch': 0.31}\n",
      "{'loss': 0.1003, 'grad_norm': 1.4730002880096436, 'learning_rate': 1.7441800972115634e-05, 'epoch': 0.38}\n",
      "{'loss': 0.0969, 'grad_norm': 0.8232213854789734, 'learning_rate': 1.693016116653876e-05, 'epoch': 0.46}\n",
      "{'loss': 0.0983, 'grad_norm': 0.641442596912384, 'learning_rate': 1.6418521360961884e-05, 'epoch': 0.54}\n",
      "{'loss': 0.0893, 'grad_norm': 3.6875345706939697, 'learning_rate': 1.590688155538501e-05, 'epoch': 0.61}\n",
      "{'loss': 0.0904, 'grad_norm': 1.157231092453003, 'learning_rate': 1.5395241749808137e-05, 'epoch': 0.69}\n",
      "{'loss': 0.0831, 'grad_norm': 0.9579925537109375, 'learning_rate': 1.4883601944231262e-05, 'epoch': 0.77}\n",
      "{'loss': 0.0876, 'grad_norm': 0.7895276546478271, 'learning_rate': 1.4371962138654389e-05, 'epoch': 0.84}\n",
      "{'loss': 0.077, 'grad_norm': 2.9657959938049316, 'learning_rate': 1.3860322333077514e-05, 'epoch': 0.92}\n",
      "{'loss': 0.0799, 'grad_norm': 0.8362634181976318, 'learning_rate': 1.3348682527500641e-05, 'epoch': 1.0}\n"
     ]
    },
    {
     "data": {
      "application/vnd.jupyter.widget-view+json": {
       "model_id": "42265012eb4a4f1f95a50a848c45e5a1",
       "version_major": 2,
       "version_minor": 0
      },
      "text/plain": [
       "  0%|          | 0/724 [00:00<?, ?it/s]"
      ]
     },
     "metadata": {},
     "output_type": "display_data"
    },
    {
     "name": "stdout",
     "output_type": "stream",
     "text": [
      "{'eval_loss': 0.07870307564735413, 'eval_precision': 0.8533802964987909, 'eval_recall': 0.8871461361897475, 'eval_f1': 0.869935691318328, 'eval_accuracy': 0.976854976378578, 'eval_runtime': 95.8063, 'eval_samples_per_second': 120.89, 'eval_steps_per_second': 7.557, 'epoch': 1.0}\n",
      "{'loss': 0.0573, 'grad_norm': 0.442556768655777, 'learning_rate': 1.2837042721923768e-05, 'epoch': 1.07}\n",
      "{'loss': 0.0593, 'grad_norm': 1.4509642124176025, 'learning_rate': 1.2325402916346893e-05, 'epoch': 1.15}\n",
      "{'loss': 0.0548, 'grad_norm': 0.9856162071228027, 'learning_rate': 1.1813763110770018e-05, 'epoch': 1.23}\n",
      "{'loss': 0.0579, 'grad_norm': 1.5768076181411743, 'learning_rate': 1.1302123305193145e-05, 'epoch': 1.3}\n",
      "{'loss': 0.0542, 'grad_norm': 1.736334204673767, 'learning_rate': 1.0790483499616271e-05, 'epoch': 1.38}\n",
      "{'loss': 0.0517, 'grad_norm': 0.8264487385749817, 'learning_rate': 1.0278843694039398e-05, 'epoch': 1.46}\n",
      "{'loss': 0.0565, 'grad_norm': 1.290487289428711, 'learning_rate': 9.767203888462523e-06, 'epoch': 1.53}\n",
      "{'loss': 0.0581, 'grad_norm': 0.4694904685020447, 'learning_rate': 9.25556408288565e-06, 'epoch': 1.61}\n",
      "{'loss': 0.0564, 'grad_norm': 5.7718400955200195, 'learning_rate': 8.743924277308775e-06, 'epoch': 1.69}\n",
      "{'loss': 0.0494, 'grad_norm': 1.1619207859039307, 'learning_rate': 8.232284471731902e-06, 'epoch': 1.77}\n",
      "{'loss': 0.0513, 'grad_norm': 2.2758290767669678, 'learning_rate': 7.720644666155027e-06, 'epoch': 1.84}\n",
      "{'loss': 0.049, 'grad_norm': 0.9304180145263672, 'learning_rate': 7.2090048605781535e-06, 'epoch': 1.92}\n",
      "{'loss': 0.0494, 'grad_norm': 1.153538703918457, 'learning_rate': 6.6973650550012794e-06, 'epoch': 2.0}\n"
     ]
    },
    {
     "data": {
      "application/vnd.jupyter.widget-view+json": {
       "model_id": "67ddb8f60a594ce68cee90bfbeec7fe2",
       "version_major": 2,
       "version_minor": 0
      },
      "text/plain": [
       "  0%|          | 0/724 [00:00<?, ?it/s]"
      ]
     },
     "metadata": {},
     "output_type": "display_data"
    },
    {
     "name": "stdout",
     "output_type": "stream",
     "text": [
      "{'eval_loss': 0.07424306869506836, 'eval_precision': 0.8721338999947531, 'eval_recall': 0.9084052901956498, 'eval_f1': 0.8899001525818454, 'eval_accuracy': 0.9798245265790623, 'eval_runtime': 96.2488, 'eval_samples_per_second': 120.334, 'eval_steps_per_second': 7.522, 'epoch': 2.0}\n",
      "{'loss': 0.036, 'grad_norm': 0.8495264649391174, 'learning_rate': 6.185725249424405e-06, 'epoch': 2.07}\n",
      "{'loss': 0.036, 'grad_norm': 4.841208457946777, 'learning_rate': 5.674085443847532e-06, 'epoch': 2.15}\n",
      "{'loss': 0.0326, 'grad_norm': 0.5481700897216797, 'learning_rate': 5.162445638270658e-06, 'epoch': 2.23}\n",
      "{'loss': 0.0298, 'grad_norm': 0.5395455360412598, 'learning_rate': 4.650805832693784e-06, 'epoch': 2.3}\n",
      "{'loss': 0.0344, 'grad_norm': 0.2855745851993561, 'learning_rate': 4.13916602711691e-06, 'epoch': 2.38}\n",
      "{'loss': 0.0337, 'grad_norm': 1.2413885593414307, 'learning_rate': 3.6275262215400357e-06, 'epoch': 2.46}\n",
      "{'loss': 0.0325, 'grad_norm': 1.0720324516296387, 'learning_rate': 3.1158864159631625e-06, 'epoch': 2.53}\n",
      "{'loss': 0.0327, 'grad_norm': 1.3594212532043457, 'learning_rate': 2.6042466103862884e-06, 'epoch': 2.61}\n",
      "{'loss': 0.0306, 'grad_norm': 0.9111548066139221, 'learning_rate': 2.0926068048094143e-06, 'epoch': 2.69}\n",
      "{'loss': 0.0329, 'grad_norm': 1.1236648559570312, 'learning_rate': 1.5809669992325404e-06, 'epoch': 2.76}\n",
      "{'loss': 0.0312, 'grad_norm': 0.9571104049682617, 'learning_rate': 1.0693271936556665e-06, 'epoch': 2.84}\n",
      "{'loss': 0.0302, 'grad_norm': 0.877849280834198, 'learning_rate': 5.576873880787926e-07, 'epoch': 2.92}\n",
      "{'loss': 0.0314, 'grad_norm': 0.7752659320831299, 'learning_rate': 4.604758250191865e-08, 'epoch': 2.99}\n"
     ]
    },
    {
     "data": {
      "application/vnd.jupyter.widget-view+json": {
       "model_id": "b26123cda5eb4e5ca364b71ce7712ed3",
       "version_major": 2,
       "version_minor": 0
      },
      "text/plain": [
       "  0%|          | 0/724 [00:00<?, ?it/s]"
      ]
     },
     "metadata": {},
     "output_type": "display_data"
    },
    {
     "name": "stdout",
     "output_type": "stream",
     "text": [
      "{'eval_loss': 0.07463747262954712, 'eval_precision': 0.8802334836826744, 'eval_recall': 0.9065471636244399, 'eval_f1': 0.8931965646285975, 'eval_accuracy': 0.9808209932907221, 'eval_runtime': 107.9555, 'eval_samples_per_second': 107.285, 'eval_steps_per_second': 6.706, 'epoch': 3.0}\n",
      "{'train_runtime': 6780.6673, 'train_samples_per_second': 46.115, 'train_steps_per_second': 2.882, 'train_loss': 0.06747565546984806, 'epoch': 3.0}\n"
     ]
    },
    {
     "data": {
      "text/plain": [
       "TrainOutput(global_step=19545, training_loss=0.06747565546984806, metrics={'train_runtime': 6780.6673, 'train_samples_per_second': 46.115, 'train_steps_per_second': 2.882, 'total_flos': 9226329716648148.0, 'train_loss': 0.06747565546984806, 'epoch': 3.0})"
      ]
     },
     "execution_count": 35,
     "metadata": {},
     "output_type": "execute_result"
    }
   ],
   "source": [
    "# Train the model\n",
    "trainer.train()"
   ]
  },
  {
   "cell_type": "code",
   "execution_count": 36,
   "metadata": {},
   "outputs": [
    {
     "data": {
      "application/vnd.jupyter.widget-view+json": {
       "model_id": "66f3f940643d4f778c2e19b9feb4fc0c",
       "version_major": 2,
       "version_minor": 0
      },
      "text/plain": [
       "  0%|          | 0/724 [00:00<?, ?it/s]"
      ]
     },
     "metadata": {},
     "output_type": "display_data"
    },
    {
     "data": {
      "text/plain": [
       "{'eval_loss': 0.07463747262954712,\n",
       " 'eval_precision': 0.8802334836826744,\n",
       " 'eval_recall': 0.9065471636244399,\n",
       " 'eval_f1': 0.8931965646285975,\n",
       " 'eval_accuracy': 0.9808209932907221,\n",
       " 'eval_runtime': 67.7694,\n",
       " 'eval_samples_per_second': 170.903,\n",
       " 'eval_steps_per_second': 10.683,\n",
       " 'epoch': 3.0}"
      ]
     },
     "execution_count": 36,
     "metadata": {},
     "output_type": "execute_result"
    }
   ],
   "source": [
    "# Evaluate the model\n",
    "trainer.evaluate()"
   ]
  },
  {
   "cell_type": "code",
   "execution_count": 37,
   "metadata": {},
   "outputs": [
    {
     "data": {
      "text/plain": [
       "('./saved_model\\\\tokenizer_config.json',\n",
       " './saved_model\\\\special_tokens_map.json',\n",
       " './saved_model\\\\vocab.txt',\n",
       " './saved_model\\\\added_tokens.json',\n",
       " './saved_model\\\\tokenizer.json')"
      ]
     },
     "execution_count": 37,
     "metadata": {},
     "output_type": "execute_result"
    }
   ],
   "source": [
    "# Save the model and tokenizer\n",
    "output_dir = \"./saved_model\"\n",
    "model.save_pretrained(output_dir)\n",
    "tokenizer.save_pretrained(output_dir)"
   ]
  },
  {
   "cell_type": "code",
   "execution_count": 38,
   "metadata": {},
   "outputs": [
    {
     "data": {
      "image/png": "[encoded data removed]",
      "text/plain": [
       "<Figure size 1000x600 with 1 Axes>"
      ]
     },
     "metadata": {},
     "output_type": "display_data"
    }
   ],
   "source": [
    "# Plot the training and evaluation loss\n",
    "history = trainer.state.log_history\n",
    "\n",
    "train_loss = [entry['loss'] for entry in history if 'loss' in entry]\n",
    "eval_loss = [entry['eval_loss'] for entry in history if 'eval_loss' in entry]\n",
    "\n",
    "plt.figure(figsize=(10, 6))\n",
    "plt.plot(np.linspace(1, (len(eval_loss)-1), num=len(train_loss)), train_loss, label='Training Loss')\n",
    "plt.plot(np.linspace(1, (len(eval_loss)-1), num=len(eval_loss)), eval_loss, label='Evaluation Loss')\n",
    "plt.xlabel('Epochs')\n",
    "plt.ylabel('Loss')\n",
    "plt.title('Training and Evaluation Loss Over Epochs')\n",
    "plt.legend()\n",
    "plt.show()"
   ]
  },
  {
   "cell_type": "code",
   "execution_count": 39,
   "metadata": {},
   "outputs": [
    {
     "data": {
      "image/png": "[encoded data removed]",
      "text/plain": [
       "<Figure size 1000x600 with 1 Axes>"
      ]
     },
     "metadata": {},
     "output_type": "display_data"
    }
   ],
   "source": [
    "# Plot the evaluation Accuracy\n",
    "history = trainer.state.log_history\n",
    "\n",
    "eval_accuracy = [entry['eval_accuracy'] for entry in history if 'eval_accuracy' in entry]\n",
    "\n",
    "plt.figure(figsize=(10, 6))\n",
    "plt.plot(np.linspace(1, (len(eval_accuracy)-1), num=(len(eval_accuracy)-1)), eval_accuracy[:-1], label='Evaluation Accuracy')\n",
    "plt.xlabel('Epochs')\n",
    "plt.ylabel('Accuracy')\n",
    "plt.title('Training and Evaluation Accuracy Over Epochs')\n",
    "plt.legend()\n",
    "plt.show()"
   ]
  },
  {
   "cell_type": "code",
   "execution_count": 40,
   "metadata": {},
   "outputs": [],
   "source": [
    "f = open(\"./history.txt\", 'w', encoding='utf-8')\n",
    "\n",
    "for item in history:\n",
    "    f.write(f\"{str(item)}\\n\")\n",
    "\n",
    "f.close()"
   ]
  },
  {
   "cell_type": "markdown",
   "metadata": {},
   "source": [
    "## Using the model"
   ]
  },
  {
   "cell_type": "code",
   "execution_count": 43,
   "metadata": {},
   "outputs": [],
   "source": [
    "import torch\n",
    "from transformers import BertTokenizerFast, BertForTokenClassification"
   ]
  },
  {
   "cell_type": "code",
   "execution_count": 44,
   "metadata": {},
   "outputs": [],
   "source": [
    "# Load the model and tokenizer\n",
    "output_dir = \"./saved_model\"\n",
    "model = BertForTokenClassification.from_pretrained(output_dir)\n",
    "tokenizer = BertTokenizerFast.from_pretrained(output_dir)"
   ]
  },
  {
   "cell_type": "code",
   "execution_count": 45,
   "metadata": {},
   "outputs": [],
   "source": [
    "# Function to get the context explanation of a text\n",
    "def get_context_explanation(text):\n",
    "    # Tokenize the input text\n",
    "    tokens = tokenizer(text, truncation=True, padding='max_length', max_length=128, return_tensors='pt')\n",
    "    input_ids = tokens['input_ids']\n",
    "    attention_mask = tokens['attention_mask']\n",
    "\n",
    "    # Get the model's predictions\n",
    "    model.eval()\n",
    "    with torch.no_grad():\n",
    "        outputs = model(input_ids, attention_mask=attention_mask)\n",
    "    \n",
    "    # Get the predicted labels\n",
    "    predictions = torch.argmax(outputs.logits, dim=2)\n",
    "    \n",
    "    # Convert token IDs to tokens\n",
    "    tokens_list = tokenizer.convert_ids_to_tokens(input_ids.squeeze().tolist())\n",
    "    labels = predictions.squeeze().tolist()\n",
    "\n",
    "    # Load the label names\n",
    "    label_names = model.config.id2label\n",
    "    \n",
    "    # Extract named entities and their context\n",
    "    entities = []\n",
    "    current_entity = {\"type\": None, \"tokens\": []}\n",
    "\n",
    "    for token, label in zip(tokens_list, labels):\n",
    "        if token in ('[CLS]', '[SEP]', '[PAD]'):\n",
    "            continue\n",
    "        \n",
    "        label_name = label_names[label]\n",
    "        \n",
    "        if label_name.startswith(\"B-\"):  # Beginning of a new entity\n",
    "            if current_entity[\"tokens\"]:\n",
    "                entities.append(current_entity)\n",
    "            current_entity = {\"type\": label_name[2:], \"tokens\": [token]}\n",
    "        \n",
    "        elif label_name.startswith(\"I-\") and current_entity[\"type\"] == label_name[2:]:\n",
    "            current_entity[\"tokens\"].append(token)\n",
    "        \n",
    "        else:\n",
    "            if current_entity[\"tokens\"]:\n",
    "                entities.append(current_entity)\n",
    "            current_entity = {\"type\": None, \"tokens\": []}\n",
    "    \n",
    "    if current_entity[\"tokens\"]:\n",
    "        entities.append(current_entity)\n",
    "\n",
    "    # Generate the context explanation\n",
    "    explanation = [\"The text mentions several key entities.\"]\n",
    "    for entity in entities:\n",
    "        # Join tokens, handling subwords properly\n",
    "        entity_tokens = [token.replace('##', '') if token.startswith('##') else token for token in entity[\"tokens\"]]\n",
    "        entity_text = tokenizer.convert_tokens_to_string(entity_tokens)\n",
    "        entity_text = entity_text.replace(' - ', '-').strip()\n",
    "        entity_type = entity['type']\n",
    "        \n",
    "        if entity_type == 'ORG':\n",
    "            entity_type = 'organization'\n",
    "        elif entity_type == 'GPE':\n",
    "            entity_type = 'geopolitical entity'\n",
    "        \n",
    "        explanation.append(f\"{entity_text} is a {entity_type}.\")\n",
    "    \n",
    "    return \" \".join(explanation)"
   ]
  },
  {
   "cell_type": "code",
   "execution_count": 46,
   "metadata": {},
   "outputs": [
    {
     "name": "stdout",
     "output_type": "stream",
     "text": [
      "The text mentions several key entities. the early Solar System ' s is a LOC. Moon is a LOC.\n"
     ]
    }
   ],
   "source": [
    "# Example usage\n",
    "text = '''Scientists are particularly interested in this region because it could offer clues about the early Solar System's evolution, as well as the geological processes that shaped the Moon.'''\n",
    "context_explanation = get_context_explanation(text)\n",
    "print(context_explanation)"
   ]
  }
 ],
 "metadata": {
  "kernelspec": {
   "display_name": "Python 3",
   "language": "python",
   "name": "python3"
  },
  "language_info": {
   "codemirror_mode": {
    "name": "ipython",
    "version": 3
   },
   "file_extension": ".py",
   "mimetype": "text/x-python",
   "name": "python",
   "nbconvert_exporter": "python",
   "pygments_lexer": "ipython3",
   "version": "3.11.0"
  }
 },
 "nbformat": 4,
 "nbformat_minor": 2
}
